{
 "cells": [
  {
   "cell_type": "code",
   "execution_count": 148,
   "metadata": {},
   "outputs": [],
   "source": [
    "import matplotlib.pyplot as plt\n",
    "import seaborn as sns\n",
    "import numpy as np\n",
    "import pandas as pd\n",
    "from sklearn import linear_model\n",
    "from sklearn.model_selection import train_test_split"
   ]
  },
  {
   "cell_type": "code",
   "execution_count": 149,
   "metadata": {},
   "outputs": [
    {
     "data": {
      "text/html": [
       "<div>\n",
       "<style scoped>\n",
       "    .dataframe tbody tr th:only-of-type {\n",
       "        vertical-align: middle;\n",
       "    }\n",
       "\n",
       "    .dataframe tbody tr th {\n",
       "        vertical-align: top;\n",
       "    }\n",
       "\n",
       "    .dataframe thead th {\n",
       "        text-align: right;\n",
       "    }\n",
       "</style>\n",
       "<table border=\"1\" class=\"dataframe\">\n",
       "  <thead>\n",
       "    <tr style=\"text-align: right;\">\n",
       "      <th></th>\n",
       "      <th>Name</th>\n",
       "      <th>NFC</th>\n",
       "      <th>color</th>\n",
       "      <th>type_screen</th>\n",
       "      <th>dioganal</th>\n",
       "      <th>RAM_size</th>\n",
       "      <th>Processor</th>\n",
       "      <th>memory_capacity</th>\n",
       "      <th>Battery</th>\n",
       "      <th>Price</th>\n",
       "    </tr>\n",
       "  </thead>\n",
       "  <tbody>\n",
       "    <tr>\n",
       "      <th>0</th>\n",
       "      <td>Apple iPhone 14 Pro Max 256Gb фиолетовый</td>\n",
       "      <td>Да</td>\n",
       "      <td>фиолетовый</td>\n",
       "      <td>OLED, Super Retina XDR display с возможностью ...</td>\n",
       "      <td>6.7 дюйм</td>\n",
       "      <td>6 ГБ</td>\n",
       "      <td>6-ядерный Apple A16 Bionic</td>\n",
       "      <td>256 ГБ</td>\n",
       "      <td>3095 мАч</td>\n",
       "      <td>665 580 ₸</td>\n",
       "    </tr>\n",
       "    <tr>\n",
       "      <th>1</th>\n",
       "      <td>Apple iPhone 14 Pro 256Gb фиолетовый</td>\n",
       "      <td>Да</td>\n",
       "      <td>фиолетовый</td>\n",
       "      <td>OLED, Super Retina XDR display с возможностью ...</td>\n",
       "      <td>6.1 дюйм</td>\n",
       "      <td>6 ГБ</td>\n",
       "      <td>6-ядерный Apple A16 Bionic</td>\n",
       "      <td>256 ГБ</td>\n",
       "      <td>3125 мАч</td>\n",
       "      <td>614 551 ₸</td>\n",
       "    </tr>\n",
       "    <tr>\n",
       "      <th>2</th>\n",
       "      <td>Apple iPhone 13 128Gb белый</td>\n",
       "      <td>Да</td>\n",
       "      <td>белый</td>\n",
       "      <td>OLED, Super Retina XDR</td>\n",
       "      <td>6.1 дюйм</td>\n",
       "      <td>4 ГБ</td>\n",
       "      <td>6-ядерный Apple A15 Bionic</td>\n",
       "      <td>128 ГБ</td>\n",
       "      <td>3095 мАч</td>\n",
       "      <td>367 686 ₸</td>\n",
       "    </tr>\n",
       "    <tr>\n",
       "      <th>3</th>\n",
       "      <td>Xiaomi Redmi Note 10 Pro 8 ГБ/256 ГБ серый</td>\n",
       "      <td>Да</td>\n",
       "      <td>серый</td>\n",
       "      <td>цветной AMOLED, сенсорный</td>\n",
       "      <td>6.67 дюйм</td>\n",
       "      <td>8 ГБ</td>\n",
       "      <td>8-ядерный Qualcomm Snapdragon 732G</td>\n",
       "      <td>256 ГБ</td>\n",
       "      <td>5020 мАч</td>\n",
       "      <td>128 655 ₸</td>\n",
       "    </tr>\n",
       "    <tr>\n",
       "      <th>4</th>\n",
       "      <td>Apple iPhone 13 128Gb черный</td>\n",
       "      <td>Да</td>\n",
       "      <td>черный</td>\n",
       "      <td>OLED, Super Retina XDR</td>\n",
       "      <td>6.1 дюйм</td>\n",
       "      <td>4 ГБ</td>\n",
       "      <td>6-ядерный Apple A15 Bionic</td>\n",
       "      <td>128 ГБ</td>\n",
       "      <td>3095 мАч</td>\n",
       "      <td>366 600 ₸</td>\n",
       "    </tr>\n",
       "    <tr>\n",
       "      <th>...</th>\n",
       "      <td>...</td>\n",
       "      <td>...</td>\n",
       "      <td>...</td>\n",
       "      <td>...</td>\n",
       "      <td>...</td>\n",
       "      <td>...</td>\n",
       "      <td>...</td>\n",
       "      <td>...</td>\n",
       "      <td>...</td>\n",
       "      <td>...</td>\n",
       "    </tr>\n",
       "    <tr>\n",
       "      <th>1299</th>\n",
       "      <td>Apple iPhone SE 2020 256Gb Slim Box белый</td>\n",
       "      <td>Да</td>\n",
       "      <td>белый</td>\n",
       "      <td>сенсорный, мультитач, IPS</td>\n",
       "      <td>4.7 дюйм</td>\n",
       "      <td>4 ГБ</td>\n",
       "      <td>Apple A13 Bionic</td>\n",
       "      <td>256 ГБ</td>\n",
       "      <td>1821 мАч</td>\n",
       "      <td>283 500 ₸</td>\n",
       "    </tr>\n",
       "    <tr>\n",
       "      <th>1300</th>\n",
       "      <td>OPPO Reno 8T 8 ГБ/256 ГБ оранжевый</td>\n",
       "      <td>Да</td>\n",
       "      <td>оранжевый</td>\n",
       "      <td>AMOLED</td>\n",
       "      <td>6.43 дюйм</td>\n",
       "      <td>8 ГБ</td>\n",
       "      <td>MediaTek Dimensity 810</td>\n",
       "      <td>256 ГБ</td>\n",
       "      <td>5000 мАч</td>\n",
       "      <td>234 990 ₸</td>\n",
       "    </tr>\n",
       "    <tr>\n",
       "      <th>1301</th>\n",
       "      <td>OnePlus 11R 16 ГБ/256 ГБ синий</td>\n",
       "      <td>Да</td>\n",
       "      <td>синий</td>\n",
       "      <td>AMOLED</td>\n",
       "      <td>6.74 дюйм</td>\n",
       "      <td>16 ГБ</td>\n",
       "      <td>Qualcomm Snapdragon 8+ Gen1 3.0GHz</td>\n",
       "      <td>256 ГБ</td>\n",
       "      <td>5000 мАч</td>\n",
       "      <td>335 000 ₸</td>\n",
       "    </tr>\n",
       "    <tr>\n",
       "      <th>1302</th>\n",
       "      <td>OnePlus 11R 16 ГБ/256 ГБ черный</td>\n",
       "      <td>Да</td>\n",
       "      <td>черный</td>\n",
       "      <td>AMOLED</td>\n",
       "      <td>6.74 дюйм</td>\n",
       "      <td>16 ГБ</td>\n",
       "      <td>Qualcomm Snapdragon 8+ Gen1 3.0GHz</td>\n",
       "      <td>256 ГБ</td>\n",
       "      <td>5000 мАч</td>\n",
       "      <td>339 900 ₸</td>\n",
       "    </tr>\n",
       "    <tr>\n",
       "      <th>1303</th>\n",
       "      <td>Vivo Y35 4 ГБ/64 ГБ черный + подарок</td>\n",
       "      <td>NaN</td>\n",
       "      <td>NaN</td>\n",
       "      <td>NaN</td>\n",
       "      <td>NaN</td>\n",
       "      <td>NaN</td>\n",
       "      <td>NaN</td>\n",
       "      <td>NaN</td>\n",
       "      <td>NaN</td>\n",
       "      <td>104 990 ₸</td>\n",
       "    </tr>\n",
       "  </tbody>\n",
       "</table>\n",
       "<p>1304 rows × 10 columns</p>\n",
       "</div>"
      ],
      "text/plain": [
       "                                            Name  NFC       color  \\\n",
       "0       Apple iPhone 14 Pro Max 256Gb фиолетовый   Да  фиолетовый   \n",
       "1           Apple iPhone 14 Pro 256Gb фиолетовый   Да  фиолетовый   \n",
       "2                    Apple iPhone 13 128Gb белый   Да       белый   \n",
       "3     Xiaomi Redmi Note 10 Pro 8 ГБ/256 ГБ серый   Да       серый   \n",
       "4                   Apple iPhone 13 128Gb черный   Да      черный   \n",
       "...                                          ...  ...         ...   \n",
       "1299   Apple iPhone SE 2020 256Gb Slim Box белый   Да       белый   \n",
       "1300          OPPO Reno 8T 8 ГБ/256 ГБ оранжевый   Да   оранжевый   \n",
       "1301              OnePlus 11R 16 ГБ/256 ГБ синий   Да       синий   \n",
       "1302             OnePlus 11R 16 ГБ/256 ГБ черный   Да      черный   \n",
       "1303        Vivo Y35 4 ГБ/64 ГБ черный + подарок  NaN         NaN   \n",
       "\n",
       "                                            type_screen   dioganal RAM_size  \\\n",
       "0     OLED, Super Retina XDR display с возможностью ...   6.7 дюйм     6 ГБ   \n",
       "1     OLED, Super Retina XDR display с возможностью ...   6.1 дюйм     6 ГБ   \n",
       "2                                OLED, Super Retina XDR   6.1 дюйм     4 ГБ   \n",
       "3                             цветной AMOLED, сенсорный  6.67 дюйм     8 ГБ   \n",
       "4                                OLED, Super Retina XDR   6.1 дюйм     4 ГБ   \n",
       "...                                                 ...        ...      ...   \n",
       "1299                          сенсорный, мультитач, IPS   4.7 дюйм     4 ГБ   \n",
       "1300                                             AMOLED  6.43 дюйм     8 ГБ   \n",
       "1301                                             AMOLED  6.74 дюйм    16 ГБ   \n",
       "1302                                             AMOLED  6.74 дюйм    16 ГБ   \n",
       "1303                                                NaN        NaN      NaN   \n",
       "\n",
       "                               Processor memory_capacity   Battery      Price  \n",
       "0             6-ядерный Apple A16 Bionic          256 ГБ  3095 мАч  665 580 ₸  \n",
       "1             6-ядерный Apple A16 Bionic          256 ГБ  3125 мАч  614 551 ₸  \n",
       "2             6-ядерный Apple A15 Bionic          128 ГБ  3095 мАч  367 686 ₸  \n",
       "3     8-ядерный Qualcomm Snapdragon 732G          256 ГБ  5020 мАч  128 655 ₸  \n",
       "4             6-ядерный Apple A15 Bionic          128 ГБ  3095 мАч  366 600 ₸  \n",
       "...                                  ...             ...       ...        ...  \n",
       "1299                    Apple A13 Bionic          256 ГБ  1821 мАч  283 500 ₸  \n",
       "1300              MediaTek Dimensity 810          256 ГБ  5000 мАч  234 990 ₸  \n",
       "1301  Qualcomm Snapdragon 8+ Gen1 3.0GHz          256 ГБ  5000 мАч  335 000 ₸  \n",
       "1302  Qualcomm Snapdragon 8+ Gen1 3.0GHz          256 ГБ  5000 мАч  339 900 ₸  \n",
       "1303                                 NaN             NaN       NaN  104 990 ₸  \n",
       "\n",
       "[1304 rows x 10 columns]"
      ]
     },
     "execution_count": 149,
     "metadata": {},
     "output_type": "execute_result"
    }
   ],
   "source": [
    "data=pd.read_excel('KaspiDatasets.xlsx')\n",
    "data"
   ]
  },
  {
   "cell_type": "code",
   "execution_count": 150,
   "metadata": {},
   "outputs": [
    {
     "data": {
      "text/html": [
       "<div>\n",
       "<style scoped>\n",
       "    .dataframe tbody tr th:only-of-type {\n",
       "        vertical-align: middle;\n",
       "    }\n",
       "\n",
       "    .dataframe tbody tr th {\n",
       "        vertical-align: top;\n",
       "    }\n",
       "\n",
       "    .dataframe thead th {\n",
       "        text-align: right;\n",
       "    }\n",
       "</style>\n",
       "<table border=\"1\" class=\"dataframe\">\n",
       "  <thead>\n",
       "    <tr style=\"text-align: right;\">\n",
       "      <th></th>\n",
       "      <th>Name</th>\n",
       "      <th>NFC</th>\n",
       "      <th>color</th>\n",
       "      <th>type_screen</th>\n",
       "      <th>dioganal</th>\n",
       "      <th>RAM_size</th>\n",
       "      <th>Processor</th>\n",
       "      <th>memory_capacity</th>\n",
       "      <th>Battery</th>\n",
       "      <th>Price</th>\n",
       "    </tr>\n",
       "  </thead>\n",
       "  <tbody>\n",
       "    <tr>\n",
       "      <th>0</th>\n",
       "      <td>Apple iPhone 14 Pro Max 256Gb фиолетовый</td>\n",
       "      <td>Да</td>\n",
       "      <td>фиолетовый</td>\n",
       "      <td>OLED, Super Retina XDR display с возможностью ...</td>\n",
       "      <td>6.7 дюйм</td>\n",
       "      <td>6 ГБ</td>\n",
       "      <td>6-ядерный Apple A16 Bionic</td>\n",
       "      <td>256 ГБ</td>\n",
       "      <td>3095 мАч</td>\n",
       "      <td>665 580 ₸</td>\n",
       "    </tr>\n",
       "    <tr>\n",
       "      <th>1</th>\n",
       "      <td>Apple iPhone 14 Pro 256Gb фиолетовый</td>\n",
       "      <td>Да</td>\n",
       "      <td>фиолетовый</td>\n",
       "      <td>OLED, Super Retina XDR display с возможностью ...</td>\n",
       "      <td>6.1 дюйм</td>\n",
       "      <td>6 ГБ</td>\n",
       "      <td>6-ядерный Apple A16 Bionic</td>\n",
       "      <td>256 ГБ</td>\n",
       "      <td>3125 мАч</td>\n",
       "      <td>614 551 ₸</td>\n",
       "    </tr>\n",
       "    <tr>\n",
       "      <th>2</th>\n",
       "      <td>Apple iPhone 13 128Gb белый</td>\n",
       "      <td>Да</td>\n",
       "      <td>белый</td>\n",
       "      <td>OLED, Super Retina XDR</td>\n",
       "      <td>6.1 дюйм</td>\n",
       "      <td>4 ГБ</td>\n",
       "      <td>6-ядерный Apple A15 Bionic</td>\n",
       "      <td>128 ГБ</td>\n",
       "      <td>3095 мАч</td>\n",
       "      <td>367 686 ₸</td>\n",
       "    </tr>\n",
       "    <tr>\n",
       "      <th>3</th>\n",
       "      <td>Xiaomi Redmi Note 10 Pro 8 ГБ/256 ГБ серый</td>\n",
       "      <td>Да</td>\n",
       "      <td>серый</td>\n",
       "      <td>цветной AMOLED, сенсорный</td>\n",
       "      <td>6.67 дюйм</td>\n",
       "      <td>8 ГБ</td>\n",
       "      <td>8-ядерный Qualcomm Snapdragon 732G</td>\n",
       "      <td>256 ГБ</td>\n",
       "      <td>5020 мАч</td>\n",
       "      <td>128 655 ₸</td>\n",
       "    </tr>\n",
       "    <tr>\n",
       "      <th>4</th>\n",
       "      <td>Apple iPhone 13 128Gb черный</td>\n",
       "      <td>Да</td>\n",
       "      <td>черный</td>\n",
       "      <td>OLED, Super Retina XDR</td>\n",
       "      <td>6.1 дюйм</td>\n",
       "      <td>4 ГБ</td>\n",
       "      <td>6-ядерный Apple A15 Bionic</td>\n",
       "      <td>128 ГБ</td>\n",
       "      <td>3095 мАч</td>\n",
       "      <td>366 600 ₸</td>\n",
       "    </tr>\n",
       "    <tr>\n",
       "      <th>...</th>\n",
       "      <td>...</td>\n",
       "      <td>...</td>\n",
       "      <td>...</td>\n",
       "      <td>...</td>\n",
       "      <td>...</td>\n",
       "      <td>...</td>\n",
       "      <td>...</td>\n",
       "      <td>...</td>\n",
       "      <td>...</td>\n",
       "      <td>...</td>\n",
       "    </tr>\n",
       "    <tr>\n",
       "      <th>1271</th>\n",
       "      <td>Xiaomi 12S Ultra 12 ГБ/512 ГБ зеленый</td>\n",
       "      <td>Да</td>\n",
       "      <td>зеленый</td>\n",
       "      <td>LTPO2 AMOLED, HDR10+</td>\n",
       "      <td>6.73 дюйм</td>\n",
       "      <td>12 ГБ</td>\n",
       "      <td>Qualcomm Snapdragon 8+ Gen 1</td>\n",
       "      <td>512 ГБ</td>\n",
       "      <td>4860 мАч</td>\n",
       "      <td>579 000 ₸</td>\n",
       "    </tr>\n",
       "    <tr>\n",
       "      <th>1272</th>\n",
       "      <td>Apple iPhone SE 2020 256Gb Slim Box белый</td>\n",
       "      <td>Да</td>\n",
       "      <td>белый</td>\n",
       "      <td>сенсорный, мультитач, IPS</td>\n",
       "      <td>4.7 дюйм</td>\n",
       "      <td>4 ГБ</td>\n",
       "      <td>Apple A13 Bionic</td>\n",
       "      <td>256 ГБ</td>\n",
       "      <td>1821 мАч</td>\n",
       "      <td>283 500 ₸</td>\n",
       "    </tr>\n",
       "    <tr>\n",
       "      <th>1273</th>\n",
       "      <td>OPPO Reno 8T 8 ГБ/256 ГБ оранжевый</td>\n",
       "      <td>Да</td>\n",
       "      <td>оранжевый</td>\n",
       "      <td>AMOLED</td>\n",
       "      <td>6.43 дюйм</td>\n",
       "      <td>8 ГБ</td>\n",
       "      <td>MediaTek Dimensity 810</td>\n",
       "      <td>256 ГБ</td>\n",
       "      <td>5000 мАч</td>\n",
       "      <td>234 990 ₸</td>\n",
       "    </tr>\n",
       "    <tr>\n",
       "      <th>1274</th>\n",
       "      <td>OnePlus 11R 16 ГБ/256 ГБ синий</td>\n",
       "      <td>Да</td>\n",
       "      <td>синий</td>\n",
       "      <td>AMOLED</td>\n",
       "      <td>6.74 дюйм</td>\n",
       "      <td>16 ГБ</td>\n",
       "      <td>Qualcomm Snapdragon 8+ Gen1 3.0GHz</td>\n",
       "      <td>256 ГБ</td>\n",
       "      <td>5000 мАч</td>\n",
       "      <td>335 000 ₸</td>\n",
       "    </tr>\n",
       "    <tr>\n",
       "      <th>1275</th>\n",
       "      <td>OnePlus 11R 16 ГБ/256 ГБ черный</td>\n",
       "      <td>Да</td>\n",
       "      <td>черный</td>\n",
       "      <td>AMOLED</td>\n",
       "      <td>6.74 дюйм</td>\n",
       "      <td>16 ГБ</td>\n",
       "      <td>Qualcomm Snapdragon 8+ Gen1 3.0GHz</td>\n",
       "      <td>256 ГБ</td>\n",
       "      <td>5000 мАч</td>\n",
       "      <td>339 900 ₸</td>\n",
       "    </tr>\n",
       "  </tbody>\n",
       "</table>\n",
       "<p>1276 rows × 10 columns</p>\n",
       "</div>"
      ],
      "text/plain": [
       "                                            Name NFC       color  \\\n",
       "0       Apple iPhone 14 Pro Max 256Gb фиолетовый  Да  фиолетовый   \n",
       "1           Apple iPhone 14 Pro 256Gb фиолетовый  Да  фиолетовый   \n",
       "2                    Apple iPhone 13 128Gb белый  Да       белый   \n",
       "3     Xiaomi Redmi Note 10 Pro 8 ГБ/256 ГБ серый  Да       серый   \n",
       "4                   Apple iPhone 13 128Gb черный  Да      черный   \n",
       "...                                          ...  ..         ...   \n",
       "1271       Xiaomi 12S Ultra 12 ГБ/512 ГБ зеленый  Да     зеленый   \n",
       "1272   Apple iPhone SE 2020 256Gb Slim Box белый  Да       белый   \n",
       "1273          OPPO Reno 8T 8 ГБ/256 ГБ оранжевый  Да   оранжевый   \n",
       "1274              OnePlus 11R 16 ГБ/256 ГБ синий  Да       синий   \n",
       "1275             OnePlus 11R 16 ГБ/256 ГБ черный  Да      черный   \n",
       "\n",
       "                                            type_screen   dioganal RAM_size  \\\n",
       "0     OLED, Super Retina XDR display с возможностью ...   6.7 дюйм     6 ГБ   \n",
       "1     OLED, Super Retina XDR display с возможностью ...   6.1 дюйм     6 ГБ   \n",
       "2                                OLED, Super Retina XDR   6.1 дюйм     4 ГБ   \n",
       "3                             цветной AMOLED, сенсорный  6.67 дюйм     8 ГБ   \n",
       "4                                OLED, Super Retina XDR   6.1 дюйм     4 ГБ   \n",
       "...                                                 ...        ...      ...   \n",
       "1271                               LTPO2 AMOLED, HDR10+  6.73 дюйм    12 ГБ   \n",
       "1272                          сенсорный, мультитач, IPS   4.7 дюйм     4 ГБ   \n",
       "1273                                             AMOLED  6.43 дюйм     8 ГБ   \n",
       "1274                                             AMOLED  6.74 дюйм    16 ГБ   \n",
       "1275                                             AMOLED  6.74 дюйм    16 ГБ   \n",
       "\n",
       "                               Processor memory_capacity   Battery      Price  \n",
       "0             6-ядерный Apple A16 Bionic          256 ГБ  3095 мАч  665 580 ₸  \n",
       "1             6-ядерный Apple A16 Bionic          256 ГБ  3125 мАч  614 551 ₸  \n",
       "2             6-ядерный Apple A15 Bionic          128 ГБ  3095 мАч  367 686 ₸  \n",
       "3     8-ядерный Qualcomm Snapdragon 732G          256 ГБ  5020 мАч  128 655 ₸  \n",
       "4             6-ядерный Apple A15 Bionic          128 ГБ  3095 мАч  366 600 ₸  \n",
       "...                                  ...             ...       ...        ...  \n",
       "1271        Qualcomm Snapdragon 8+ Gen 1          512 ГБ  4860 мАч  579 000 ₸  \n",
       "1272                    Apple A13 Bionic          256 ГБ  1821 мАч  283 500 ₸  \n",
       "1273              MediaTek Dimensity 810          256 ГБ  5000 мАч  234 990 ₸  \n",
       "1274  Qualcomm Snapdragon 8+ Gen1 3.0GHz          256 ГБ  5000 мАч  335 000 ₸  \n",
       "1275  Qualcomm Snapdragon 8+ Gen1 3.0GHz          256 ГБ  5000 мАч  339 900 ₸  \n",
       "\n",
       "[1276 rows x 10 columns]"
      ]
     },
     "execution_count": 150,
     "metadata": {},
     "output_type": "execute_result"
    }
   ],
   "source": [
    "data = data.dropna ()\n",
    "data = data.reset_index(drop=True)\n",
    "data"
   ]
  },
  {
   "cell_type": "code",
   "execution_count": 151,
   "metadata": {},
   "outputs": [],
   "source": [
    "data[\"RAM_size\"]=data[\"RAM_size\"].apply(lambda x: x.replace('ГБ', '')).astype('int')\n",
    "data[\"memory_capacity\"]=data[\"memory_capacity\"].apply(lambda x: x.replace('ГБ', '')).astype('int')\n",
    "data[\"dioganal\"]=data[\"dioganal\"].apply(lambda x: x.replace('дюйм', '')).astype('float')\n",
    "data[\"Battery\"]=data[\"Battery\"].apply(lambda x: x.replace('мАч', '')).astype('int')\n",
    "data[\"Price\"]=data[\"Price\"].apply(lambda x: x.replace('₸', '').replace(' ','')).astype('int')"
   ]
  },
  {
   "cell_type": "code",
   "execution_count": 152,
   "metadata": {},
   "outputs": [],
   "source": [
    "from sklearn import preprocessing\n",
    "le = preprocessing.LabelEncoder()"
   ]
  },
  {
   "cell_type": "code",
   "execution_count": 153,
   "metadata": {},
   "outputs": [],
   "source": [
    "data.Name=le.fit_transform(data.Name)\n",
    "data.NFC=le.fit_transform(data.NFC)\n",
    "data.color=le.fit_transform(data.color)\n",
    "data.type_screen=le.fit_transform(data.type_screen)\n",
    "data.Processor=le.fit_transform(data.Processor)\n"
   ]
  },
  {
   "cell_type": "code",
   "execution_count": 154,
   "metadata": {},
   "outputs": [
    {
     "name": "stdout",
     "output_type": "stream",
     "text": [
      "<class 'pandas.core.frame.DataFrame'>\n",
      "RangeIndex: 1276 entries, 0 to 1275\n",
      "Data columns (total 10 columns):\n",
      " #   Column           Non-Null Count  Dtype  \n",
      "---  ------           --------------  -----  \n",
      " 0   Name             1276 non-null   int32  \n",
      " 1   NFC              1276 non-null   int32  \n",
      " 2   color            1276 non-null   int32  \n",
      " 3   type_screen      1276 non-null   int32  \n",
      " 4   dioganal         1276 non-null   float64\n",
      " 5   RAM_size         1276 non-null   int32  \n",
      " 6   Processor        1276 non-null   int32  \n",
      " 7   memory_capacity  1276 non-null   int32  \n",
      " 8   Battery          1276 non-null   int32  \n",
      " 9   Price            1276 non-null   int32  \n",
      "dtypes: float64(1), int32(9)\n",
      "memory usage: 55.0 KB\n"
     ]
    }
   ],
   "source": [
    "data.info()"
   ]
  },
  {
   "cell_type": "code",
   "execution_count": 155,
   "metadata": {},
   "outputs": [],
   "source": [
    "dataset=data.values\n",
    "X=dataset[:,0:9]   #[0;9)\n",
    "Y=dataset[:,9]  #9"
   ]
  },
  {
   "cell_type": "code",
   "execution_count": 156,
   "metadata": {},
   "outputs": [
    {
     "data": {
      "text/plain": [
       "array([[0.18347895, 0.        , 0.94736842, ..., 0.10583942, 0.24705882,\n",
       "        0.18848942],\n",
       "       [0.1604448 , 0.        , 0.94736842, ..., 0.10583942, 0.24705882,\n",
       "        0.19292795],\n",
       "       [0.06274821, 0.        , 0.05263158, ..., 0.10218978, 0.12156863,\n",
       "        0.18848942],\n",
       "       ...,\n",
       "       [0.39555203, 0.        , 0.57894737, ..., 0.5620438 , 0.24705882,\n",
       "        0.47033585],\n",
       "       [0.40905481, 0.        , 0.78947368, ..., 0.83576642, 0.24705882,\n",
       "        0.47033585],\n",
       "       [0.40984909, 0.        , 1.        , ..., 0.83576642, 0.24705882,\n",
       "        0.47033585]])"
      ]
     },
     "execution_count": 156,
     "metadata": {},
     "output_type": "execute_result"
    }
   ],
   "source": [
    "from sklearn.preprocessing import MinMaxScaler\n",
    "min_max_scaler=MinMaxScaler()\n",
    "X_scale=min_max_scaler.fit_transform(X)\n",
    "X_scale"
   ]
  },
  {
   "cell_type": "code",
   "execution_count": 157,
   "metadata": {},
   "outputs": [],
   "source": [
    "Y = Y.reshape(-1, 1)"
   ]
  },
  {
   "cell_type": "code",
   "execution_count": 158,
   "metadata": {},
   "outputs": [
    {
     "data": {
      "text/plain": [
       "array([[0.59557687],\n",
       "       [0.54805941],\n",
       "       [0.31818233],\n",
       "       ...,\n",
       "       [0.19461775],\n",
       "       [0.2877456 ],\n",
       "       [0.29230841]])"
      ]
     },
     "execution_count": 158,
     "metadata": {},
     "output_type": "execute_result"
    }
   ],
   "source": [
    "Y_scale=min_max_scaler.fit_transform(Y)\n",
    "Y_scale"
   ]
  },
  {
   "cell_type": "code",
   "execution_count": 159,
   "metadata": {},
   "outputs": [],
   "source": [
    "def compute_cost(AL, Y):\n",
    "    m = Y.shape[1]\n",
    "\n",
    "    cost = (1./(2.*m)) * np.sum(np.square(AL - Y))\n",
    "    \n",
    "    return cost"
   ]
  },
  {
   "cell_type": "code",
   "execution_count": 160,
   "metadata": {},
   "outputs": [],
   "source": [
    "def relu(Z):\n",
    "    A = np.maximum(0,Z)\n",
    "    cache = Z\n",
    "    return A, cache"
   ]
  },
  {
   "cell_type": "code",
   "execution_count": 161,
   "metadata": {},
   "outputs": [],
   "source": [
    "def relu_backward(dA, cache):\n",
    "    Z = cache\n",
    "    dZ = np.array(dA, copy=True)\n",
    "    dZ[Z <= 0] = 0\n",
    "    return dZ"
   ]
  },
  {
   "cell_type": "code",
   "execution_count": 162,
   "metadata": {},
   "outputs": [],
   "source": [
    "m=9"
   ]
  },
  {
   "cell_type": "code",
   "execution_count": 163,
   "metadata": {},
   "outputs": [],
   "source": [
    "import numpy as np\n",
    "\n",
    "def L_layer_model(X, Y, layers_dims, learning_rate, num_iterations, print_cost=False):\n",
    "    np.random.seed(1)\n",
    "    costs = []\n",
    "    parameters = {}\n",
    "    L = len(layers_dims) - 1  \n",
    "\n",
    "    for l in range(1, L+1):\n",
    "        parameters['W' + str(l)] = np.random.randn(layers_dims[l], layers_dims[l-1]) * learning_rate #(1, 32)\n",
    "        parameters['b' + str(l)] = np.zeros((layers_dims[l], 1))  #0\n",
    "\n",
    "\n",
    "    for i in range(num_iterations):\n",
    "\n",
    "        # Forward \n",
    "        AL = X\n",
    "        caches = []\n",
    "        for l in range(1, L):\n",
    "            AL_prev = AL\n",
    "            Wl = parameters['W' + str(l)]\n",
    "            bl = parameters['b' + str(l)]\n",
    "            Zl = np.dot(Wl, AL_prev) + bl\n",
    "            AL, cache = relu(Zl)\n",
    "            caches.append(cache)\n",
    "\n",
    "\n",
    "        # Output layer (linear activation)\n",
    "        WL = parameters['W' + str(L)]\n",
    "        bL = parameters['b' + str(L)]\n",
    "        ZL = np.dot(WL, AL) + bL\n",
    "\n",
    "        cost = compute_cost(ZL, Y)\n",
    "\n",
    "        # Backward \n",
    "        dZL = (1./m) * (ZL - Y)\n",
    "        grads = {}\n",
    "        grads['dW' + str(L)] = np.dot(dZL, AL.T)\n",
    "        grads['db' + str(L)] = np.sum(dZL, axis=1, keepdims=True)\n",
    "\n",
    "        for l in reversed(range(1, L)):\n",
    "            cache = caches[l-1]\n",
    "            dA = np.dot(parameters['W' + str(l+1)].T, dZL)\n",
    "            dZ = relu_backward(dA, cache)\n",
    "            grads['dW' + str(l)] = np.dot(dZ, AL_prev.T)\n",
    "            grads['db' + str(l)] = np.sum(dZ, axis=1, keepdims=True)\n",
    "\n",
    "        # Update parameters\n",
    "        for l in range(1, L+1):\n",
    "            parameters['W' + str(l)] = parameters['W' + str(l)] - learning_rate * grads['dW' + str(l)]\n",
    "            parameters['b' + str(l)] = parameters['b' + str(l)] - learning_rate * grads['db' + str(l)]\n",
    "            \n",
    "            \n",
    "    \n",
    "        if print_cost and i % 100 == 0:\n",
    "            print(\"Cost after iteration %i: %f\" % (i, cost))\n",
    "        if print_cost and i % 100 == 0:\n",
    "            costs.append(cost)\n",
    "    plt.plot(costs, label='Test')     \n",
    "    return ZL #чтобы вывести пред   "
   ]
  },
  {
   "cell_type": "code",
   "execution_count": 164,
   "metadata": {},
   "outputs": [
    {
     "name": "stdout",
     "output_type": "stream",
     "text": [
      "(1020, 9) (256, 9) (1020, 1) (256, 1)\n"
     ]
    }
   ],
   "source": [
    "x_train, x_test, y_train, y_test = train_test_split(X_scale, Y_scale, test_size=0.2)\n",
    "print(x_train.shape, x_test.shape, y_train.shape, y_test.shape)"
   ]
  },
  {
   "cell_type": "code",
   "execution_count": 165,
   "metadata": {},
   "outputs": [],
   "source": [
    "m=9\n",
    "layers_dims=[9, 32, 1]\n",
    "learning_rate=0.01\n",
    "num_iterations=10"
   ]
  },
  {
   "cell_type": "code",
   "execution_count": 166,
   "metadata": {},
   "outputs": [],
   "source": [
    "x_train = np.transpose(x_train)\n",
    "y_train = np.transpose(y_train)\n",
    "x_test = np.transpose(x_test)\n",
    "y_test = np.transpose(y_test)"
   ]
  },
  {
   "cell_type": "code",
   "execution_count": 167,
   "metadata": {},
   "outputs": [
    {
     "name": "stdout",
     "output_type": "stream",
     "text": [
      "Cost after iteration 0: 0.056086\n",
      "Cost after iteration 100: 0.014578\n",
      "Cost after iteration 200: 0.008131\n",
      "Cost after iteration 300: 0.007051\n",
      "Cost after iteration 400: 0.006512\n",
      "Cost after iteration 500: 0.006136\n",
      "Cost after iteration 600: 0.005901\n",
      "Cost after iteration 700: 0.005687\n",
      "Cost after iteration 800: 0.005418\n",
      "Cost after iteration 900: 0.005250\n",
      "Cost after iteration 1000: 0.005143\n",
      "Cost after iteration 1100: 0.004953\n",
      "Cost after iteration 1200: 0.004845\n",
      "Cost after iteration 1300: 0.004698\n",
      "Cost after iteration 1400: 0.004553\n",
      "Cost after iteration 1500: 0.004527\n",
      "Cost after iteration 1600: 0.004450\n",
      "Cost after iteration 1700: 0.004379\n",
      "Cost after iteration 1800: 0.004332\n",
      "Cost after iteration 1900: 0.004237\n"
     ]
    },
    {
     "data": {
      "image/png": "[encoded data removed]",
      "text/plain": [
       "<Figure size 640x480 with 1 Axes>"
      ]
     },
     "metadata": {},
     "output_type": "display_data"
    }
   ],
   "source": [
    "parameters = L_layer_model(x_train, y_train, layers_dims, learning_rate=0.01, num_iterations = 2000, print_cost=True)"
   ]
  },
  {
   "cell_type": "code",
   "execution_count": 168,
   "metadata": {},
   "outputs": [
    {
     "name": "stdout",
     "output_type": "stream",
     "text": [
      "[[0.03818681 0.08247139 0.08096264 ... 0.36730848 0.41268369 0.11446569]]\n"
     ]
    }
   ],
   "source": [
    "print(parameters)"
   ]
  },
  {
   "cell_type": "code",
   "execution_count": 169,
   "metadata": {},
   "outputs": [
    {
     "data": {
      "text/plain": [
       "array([[0.03818681],\n",
       "       [0.08247139],\n",
       "       [0.08096264],\n",
       "       ...,\n",
       "       [0.36730848],\n",
       "       [0.41268369],\n",
       "       [0.11446569]])"
      ]
     },
     "execution_count": 169,
     "metadata": {},
     "output_type": "execute_result"
    }
   ],
   "source": [
    "y_pred = parameters.reshape(-1, 1)\n",
    "y_pred"
   ]
  },
  {
   "cell_type": "code",
   "execution_count": 170,
   "metadata": {},
   "outputs": [
    {
     "data": {
      "text/plain": [
       "1020"
      ]
     },
     "execution_count": 170,
     "metadata": {},
     "output_type": "execute_result"
    }
   ],
   "source": [
    "len(y_pred)"
   ]
  },
  {
   "cell_type": "code",
   "execution_count": 171,
   "metadata": {},
   "outputs": [
    {
     "data": {
      "text/plain": [
       "array([[0.04049725],\n",
       "       [0.01862371],\n",
       "       [0.04097216],\n",
       "       ...,\n",
       "       [0.2551448 ],\n",
       "       [0.25506099],\n",
       "       [0.06890772]])"
      ]
     },
     "execution_count": 171,
     "metadata": {},
     "output_type": "execute_result"
    }
   ],
   "source": [
    "y_train = y_train.reshape(-1, 1)\n",
    "y_train"
   ]
  },
  {
   "cell_type": "code",
   "execution_count": 172,
   "metadata": {},
   "outputs": [],
   "source": [
    "from sklearn.metrics import mean_squared_error, r2_score"
   ]
  },
  {
   "cell_type": "code",
   "execution_count": 173,
   "metadata": {},
   "outputs": [
    {
     "name": "stdout",
     "output_type": "stream",
     "text": [
      "Mean squared error (MSE): 0.00836\n",
      "Coefficient of determination (R^2): 0.83771\n"
     ]
    }
   ],
   "source": [
    "print('Mean squared error (MSE): %.5f'\n",
    "      % mean_squared_error(y_train, y_pred))\n",
    "print('Coefficient of determination (R^2): %.5f'\n",
    "      % r2_score(y_train, y_pred))"
   ]
  },
  {
   "cell_type": "code",
   "execution_count": 174,
   "metadata": {},
   "outputs": [
    {
     "data": {
      "text/plain": [
       "array([[0.01862371],\n",
       "       [0.04097216],\n",
       "       [0.45991247],\n",
       "       [0.03479467],\n",
       "       [0.01769252],\n",
       "       [0.43106434],\n",
       "       [0.02412701],\n",
       "       [0.8789459 ],\n",
       "       [0.17032312],\n",
       "       [0.67417823],\n",
       "       [0.07263246],\n",
       "       [0.24583295],\n",
       "       [0.16202626],\n",
       "       [0.32023466],\n",
       "       [0.30171338],\n",
       "       [0.03623242],\n",
       "       [0.5369215 ],\n",
       "       [0.11826986],\n",
       "       [0.10615514]])"
      ]
     },
     "execution_count": 174,
     "metadata": {},
     "output_type": "execute_result"
    }
   ],
   "source": [
    "test=y_train[1:20]\n",
    "test"
   ]
  },
  {
   "cell_type": "code",
   "execution_count": 175,
   "metadata": {},
   "outputs": [
    {
     "data": {
      "text/plain": [
       "array([[0.08247139],\n",
       "       [0.08096264],\n",
       "       [0.29310475],\n",
       "       [0.0574889 ],\n",
       "       [0.05302276],\n",
       "       [0.49477082],\n",
       "       [0.0207037 ],\n",
       "       [0.78925415],\n",
       "       [0.37696582],\n",
       "       [0.53035504],\n",
       "       [0.07495349],\n",
       "       [0.35818559],\n",
       "       [0.15759213],\n",
       "       [0.33779534],\n",
       "       [0.20400025],\n",
       "       [0.07920942],\n",
       "       [0.50780477],\n",
       "       [0.27049776],\n",
       "       [0.14178707]])"
      ]
     },
     "execution_count": 175,
     "metadata": {},
     "output_type": "execute_result"
    }
   ],
   "source": [
    "pred=y_pred[1:20]\n",
    "pred"
   ]
  },
  {
   "cell_type": "code",
   "execution_count": 176,
   "metadata": {},
   "outputs": [
    {
     "data": {
      "image/png": "[encoded data removed]",
      "text/plain": [
       "<Figure size 640x480 with 1 Axes>"
      ]
     },
     "metadata": {},
     "output_type": "display_data"
    }
   ],
   "source": [
    "plt.plot(test, label='Test')\n",
    "plt.plot(pred, label='Prediction')\n",
    "plt.legend()\n",
    "plt.grid(True)\n",
    "plt.show()"
   ]
  },
  {
   "cell_type": "code",
   "execution_count": 177,
   "metadata": {},
   "outputs": [],
   "source": [
    "test = test.flatten()\n",
    "pred = pred.flatten()"
   ]
  },
  {
   "cell_type": "code",
   "execution_count": 178,
   "metadata": {},
   "outputs": [
    {
     "name": "stdout",
     "output_type": "stream",
     "text": [
      "    Test  Prediction\n",
      "0   0.02        0.08\n",
      "1   0.04        0.08\n",
      "2   0.46        0.29\n",
      "3   0.03        0.06\n",
      "4   0.02        0.05\n",
      "5   0.43        0.49\n",
      "6   0.02        0.02\n",
      "7   0.88        0.79\n",
      "8   0.17        0.38\n",
      "9   0.67        0.53\n",
      "10  0.07        0.07\n",
      "11  0.25        0.36\n",
      "12  0.16        0.16\n",
      "13  0.32        0.34\n",
      "14  0.30        0.20\n",
      "15  0.04        0.08\n",
      "16  0.54        0.51\n",
      "17  0.12        0.27\n",
      "18  0.11        0.14\n"
     ]
    }
   ],
   "source": [
    "df = pd.DataFrame({'Test': test, 'Prediction': pred})\n",
    "pd.options.display.float_format = '{:.2f}'.format\n",
    "print(df)"
   ]
  },
  {
   "cell_type": "code",
   "execution_count": 179,
   "metadata": {},
   "outputs": [
    {
     "name": "stdout",
     "output_type": "stream",
     "text": [
      "Cost after iteration 0: 0.057433\n",
      "Cost after iteration 100: 0.023839\n",
      "Cost after iteration 200: 0.012970\n",
      "Cost after iteration 300: 0.010059\n",
      "Cost after iteration 400: 0.008204\n",
      "Cost after iteration 500: 0.007104\n",
      "Cost after iteration 600: 0.006487\n",
      "Cost after iteration 700: 0.006125\n",
      "Cost after iteration 800: 0.005848\n",
      "Cost after iteration 900: 0.005624\n",
      "Cost after iteration 1000: 0.005434\n",
      "Cost after iteration 1100: 0.005289\n",
      "Cost after iteration 1200: 0.005175\n",
      "Cost after iteration 1300: 0.005077\n",
      "Cost after iteration 1400: 0.004994\n",
      "Cost after iteration 1500: 0.004917\n",
      "Cost after iteration 1600: 0.004845\n",
      "Cost after iteration 1700: 0.004778\n",
      "Cost after iteration 1800: 0.004718\n",
      "Cost after iteration 1900: 0.004662\n"
     ]
    },
    {
     "data": {
      "image/png": "[encoded data removed]",
      "text/plain": [
       "<Figure size 640x480 with 1 Axes>"
      ]
     },
     "metadata": {},
     "output_type": "display_data"
    }
   ],
   "source": [
    "parameters = L_layer_model(x_test, y_test, layers_dims, learning_rate=0.01, num_iterations = 2000, print_cost=True)"
   ]
  },
  {
   "cell_type": "code",
   "execution_count": 180,
   "metadata": {},
   "outputs": [
    {
     "data": {
      "text/plain": [
       "256"
      ]
     },
     "execution_count": 180,
     "metadata": {},
     "output_type": "execute_result"
    }
   ],
   "source": [
    "y_pred = parameters.reshape(-1, 1)\n",
    "len(y_pred)"
   ]
  },
  {
   "cell_type": "code",
   "execution_count": 181,
   "metadata": {},
   "outputs": [],
   "source": [
    "y_test = y_test.reshape(-1, 1)"
   ]
  },
  {
   "cell_type": "code",
   "execution_count": 182,
   "metadata": {},
   "outputs": [
    {
     "name": "stdout",
     "output_type": "stream",
     "text": [
      "Mean squared error (MSE): 0.00922\n",
      "Coefficient of determination (R^2): 0.82548\n"
     ]
    }
   ],
   "source": [
    "print('Mean squared error (MSE): %.5f'\n",
    "      % mean_squared_error(y_test, y_pred))\n",
    "print('Coefficient of determination (R^2): %.5f'\n",
    "      % r2_score(y_test, y_pred))"
   ]
  }
 ],
 "metadata": {
  "kernelspec": {
   "display_name": "Python 3.8.9 64-bit",
   "language": "python",
   "name": "python3"
  },
  "language_info": {
   "codemirror_mode": {
    "name": "ipython",
    "version": 3
   },
   "file_extension": ".py",
   "mimetype": "text/x-python",
   "name": "python",
   "nbconvert_exporter": "python",
   "pygments_lexer": "ipython3",
   "version": "3.8.9"
  },
  "orig_nbformat": 4,
  "vscode": {
   "interpreter": {
    "hash": "570feb405e2e27c949193ac68f46852414290d515b0ba6e5d90d076ed2284471"
   }
  }
 },
 "nbformat": 4,
 "nbformat_minor": 2
}
